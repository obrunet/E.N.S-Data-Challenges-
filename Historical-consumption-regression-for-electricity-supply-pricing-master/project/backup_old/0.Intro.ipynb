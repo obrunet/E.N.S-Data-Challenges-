{
 "cells": [
  {
   "cell_type": "markdown",
   "metadata": {
    "ExecuteTime": {
     "end_time": "2019-05-24T14:10:42.237996Z",
     "start_time": "2019-05-24T14:10:42.219899Z"
    }
   },
   "source": [
    "# Introduction\n",
    "\n",
    "## Context\n",
    "\n",
    "* Planete OUI offers green electricity supply with prices adapted to the consumption profiles of its clients. \n",
    "* The electricity prices are highly variable during time (depending on the market, the global consumption and its client needs).\n",
    "* The consumption profile of an installation has to be appraised to compute the best estimation of supply tarifs \n",
    "    * Most sites have a consumption varying strongly with temperature because of electrical heating systems.\n",
    "    * Except industrial installations because their consumption might be highly related their uses\n",
    "\n",
    "The 1st objectives are to __analyze thermosensitivity uses and / or other factors (times series...)__ affecting consumption \n",
    "\n",
    "Based on:\n",
    "* the potential client historical consumption data (i.e its profile)\n",
    "* electricity prices \n",
    "* a given percentile used to cover supply costs for different scenarios\n",
    "the 2nd objective of Planète OUI is to compute a distribution of supply costs in €/MWh.  \n",
    "\n",
    "## Planète OUI needs\n",
    "\n",
    "Extrapolation of one or several years consumption data rebuilt from a single year of measured data supplied by the client (in order to be Tcombined with electricity prices) and to get a larger data set of analysis.\n",
    "\n",
    "## Data\n",
    "\n",
    "* The client’s data is often incomplete and spread over a relatively short period.\n",
    "* 3 datasets:\n",
    "    * x_train : input data of the training set\n",
    "    * y_train : output data of the training set\n",
    "    * x_test : input data of the testing set\n",
    "* Features:\n",
    "    * \"ID\": Data point ID;\n",
    "    * \"timestamp\": Complete timestamps with year, month, day and hour, in local time (CET and CEST);\n",
    "    * \"temp1\", \"temp2\", \"meannationaltemp\": Local and mean national temperatures (°C);\n",
    "    * \"humidity1\", \"humidity2\": Local relative humidities (%);\n",
    "    * \"loc1\", \"loc2\" \"locsecondary1\", \"locsecondary2\", \"locsecondary3\": the coordinates of the studied and secondary sites, in decimal degrees and of the form (latitude, longitude).\n",
    "    * \"consumptionsecondary1\", \"consumptionsecondary2\", \"consumptionsecondary3\": the consumption data of three secondary sites, whose correlations with studied sites may be of use (kWh). Indeed, the two studied sites and the three secondary sites are used for the same purposes; The output data of the model to be developed takes the following form:\n",
    "        * \"ID\": Data point ID;\n",
    "        * \"consumption1\", \"consumption2\": the consumption data of the two studied sites (kWh).\n",
    "\n",
    "Relative humidities are provided with temperature data because they represent variables of importance for electricity consumption: humidity indeed strongly available for all. It has\n",
    "influences thermal comfort. To replicate operational conditions, some temperature integrated BCM Energy’s\n",
    "and humidity data points will be missing. The imputation method must be carefully perimeter in 2017.\n",
    "considered. The \"consumptionsecondaryi\" variables are the consumption data of several sites with metering power higher than 250 kVA of the Planète OUIs portfolio.\n",
    "\n",
    "This correlation of the various sites consumptions shall be studied to precise data\n",
    "completion or interpolation. Timestamps may be expressed as month or day of year,\n",
    "day of week and hours, to study the impact of annual, weekly and daily seasonalities.\n",
    "Particular attention should be paid to national holidays processing.\n",
    "\n",
    "## Challenge goal\n",
    "\n",
    "Prediction of the consumption of two given sites during a year, based on measured data of other profiles."
   ]
  }
 ],
 "metadata": {
  "kernelspec": {
   "display_name": "Python 3",
   "language": "python",
   "name": "python3"
  },
  "language_info": {
   "codemirror_mode": {
    "name": "ipython",
    "version": 3
   },
   "file_extension": ".py",
   "mimetype": "text/x-python",
   "name": "python",
   "nbconvert_exporter": "python",
   "pygments_lexer": "ipython3",
   "version": "3.7.3"
  },
  "toc": {
   "base_numbering": 1,
   "nav_menu": {},
   "number_sections": true,
   "sideBar": true,
   "skip_h1_title": false,
   "title_cell": "Table of Contents",
   "title_sidebar": "Contents",
   "toc_cell": false,
   "toc_position": {},
   "toc_section_display": true,
   "toc_window_display": false
  }
 },
 "nbformat": 4,
 "nbformat_minor": 2
}
